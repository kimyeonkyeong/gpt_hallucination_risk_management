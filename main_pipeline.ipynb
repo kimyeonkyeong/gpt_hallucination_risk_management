import pandas as pd
import json
from check_similarity import find_most_similar_laws
from check_entailment import check_entailment

# Load law articles CSV
df = pd.read_csv("law_articles.csv")

# Load example QA
with open("example_qa.json", "r", encoding="utf-8") as f:
    qa_data = json.load(f)

# Evaluate each QA
for item in qa_data:
    question = item["question"]
    gpt_answer = item["gpt_answer"]

    print(f"📌 질문: {question}")
    print(f"📌 GPT 응답: {gpt_answer}")

    # 필터링 (예: 카테고리 키워드로 "강도", 또는 전체 사용)
    top_matches = find_most_similar_laws(question, gpt_answer, df, top_k=3)

    for i, law in enumerate(top_matches):
        print(f"▶ 유사 조문 {i+1}: {law['조문내용']}")
        label, probs = check_entailment(law['조문내용'], gpt_answer)
        print(f"   ⮕ NLI 결과: {label} / 신뢰도: {probs}")
    print("="*80)
