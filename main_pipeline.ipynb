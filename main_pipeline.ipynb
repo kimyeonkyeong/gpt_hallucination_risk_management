{
 "cells": [
  {
   "cell_type": "code",
   "execution_count": null,
   "id": "0fc89dcb",
   "metadata": {},
   "outputs": [],
   "source": [
    "import pandas as pd\n",
    "import json\n",
    "from check_similarity import find_most_similar_laws\n",
    "from check_entailment import check_entailment\n",
    "\n",
    "# Load law articles CSV\n",
    "df = pd.read_csv(\"law_articles.csv\")\n",
    "\n",
    "# Load example QA\n",
    "with open(\"example_qa.json\", \"r\", encoding=\"utf-8\") as f:\n",
    "    qa_data = json.load(f)\n",
    "\n",
    "# Evaluate each QA\n",
    "for item in qa_data:\n",
    "    question = item[\"question\"]\n",
    "    gpt_answer = item[\"gpt_answer\"]\n",
    "\n",
    "    print(f\"📌 질문: {question}\")\n",
    "    print(f\"📌 GPT 응답: {gpt_answer}\")\n",
    "\n",
    "    # 필터링 (예: 카테고리 키워드로 \"강도\", 또는 전체 사용)\n",
    "    top_matches = find_most_similar_laws(question, gpt_answer, df, top_k=3)\n",
    "\n",
    "    for i, law in enumerate(top_matches):\n",
    "        print(f\"▶ 유사 조문 {i+1}: {law['조문내용']}\")\n",
    "        label, probs = check_entailment(law['조문내용'], gpt_answer)\n",
    "        print(f\"   ⮕ NLI 결과: {label} / 신뢰도: {probs}\")\n",
    "    print(\"=\"*80)"
   ]
  }
 ],
 "metadata": {},
 "nbformat": 4,
 "nbformat_minor": 5
}