# ✅ 1. GitHub에서 코드 + 데이터 다시 가져오기
!rm -rf gpt_hallucination_risk_management
!git clone https://github.com/kimyeonkyeong/gpt_hallucination_risk_management.git
%cd gpt_hallucination_risk_management

# ✅ 2. 필요한 라이브러리 설치
!pip install -q transformers sentence-transformers pandas

# ✅ 3. 유사도 평가 함수 로드
from check_similarity import find_most_similar_laws

# ✅ 4. NLI 추론 함수 로드
from check_entailment import check_entailment

# ✅ 5. 데이터 불러오기
import pandas as pd
import json

df = pd.read_csv("law_articles.csv")
with open("example_qa.json", "r", encoding="utf-8") as f:
    qa_data = json.load(f)

# ✅ 6. 평가 루프 실행
for idx, item in enumerate(qa_data[:5]):  # 처음 5개만 예시로 실행 (원하면 [:5] 제거)
    question = item["question"]
    gpt_answer = item["gpt_answer"]

    print(f"📌 질문 {idx+1}: {question}")
    print(f"📌 GPT 응답: {gpt_answer}")

    top_matches = find_most_similar_laws(question, gpt_answer, df)

    for i, law in enumerate(top_matches):
        print(f"▶ 유사 조문 {i+1}: {law['조문내용']}")
        label, probs = check_entailment(law['조문내용'], gpt_answer)
        print(f"   ⮕ NLI 결과: {label} / 신뢰도: {probs}")
    print("=" * 100)
